{
 "cells": [
  {
   "cell_type": "code",
   "execution_count": 1,
   "metadata": {
    "_cell_guid": "b1076dfc-b9ad-4769-8c92-a6c4dae69d19",
    "_uuid": "8f2839f25d086af736a60e9eeb907d3b93b6e0e5",
    "execution": {
     "iopub.execute_input": "2021-12-17T08:54:42.209616Z",
     "iopub.status.busy": "2021-12-17T08:54:42.208105Z",
     "iopub.status.idle": "2021-12-17T08:54:42.235886Z",
     "shell.execute_reply": "2021-12-17T08:54:42.236311Z",
     "shell.execute_reply.started": "2021-12-17T08:50:35.183359Z"
    },
    "papermill": {
     "duration": 0.04087,
     "end_time": "2021-12-17T08:54:42.236521",
     "exception": false,
     "start_time": "2021-12-17T08:54:42.195651",
     "status": "completed"
    },
    "tags": []
   },
   "outputs": [
    {
     "name": "stdout",
     "output_type": "stream",
     "text": [
      "/kaggle/input/roberta-base/rust_model.ot\n",
      "/kaggle/input/roberta-base/config.json\n",
      "/kaggle/input/roberta-base/merges.txt\n",
      "/kaggle/input/roberta-base/README.md\n",
      "/kaggle/input/roberta-base/tokenizer.json\n",
      "/kaggle/input/roberta-base/vocab.json\n",
      "/kaggle/input/roberta-base/tf_model.h5\n",
      "/kaggle/input/roberta-base/dict.txt\n",
      "/kaggle/input/roberta-base/pytorch_model.bin\n",
      "/kaggle/input/roberta-base/flax_model.msgpack\n",
      "/kaggle/input/jigsaw-toxic-severity-rating/sample_submission.csv\n",
      "/kaggle/input/jigsaw-toxic-severity-rating/validation_data.csv\n",
      "/kaggle/input/jigsaw-toxic-severity-rating/comments_to_score.csv\n",
      "/kaggle/input/jigsaw-toxic-comment-classification-challenge/sample_submission.csv\n",
      "/kaggle/input/jigsaw-toxic-comment-classification-challenge/test_labels.csv\n",
      "/kaggle/input/jigsaw-toxic-comment-classification-challenge/train.csv\n",
      "/kaggle/input/jigsaw-toxic-comment-classification-challenge/test.csv\n",
      "/kaggle/input/jigsaw-toxic/epoch0-step17951.ckpt\n"
     ]
    }
   ],
   "source": [
    "# This Python 3 environment comes with many helpful analytics libraries installed\n",
    "# It is defined by the kaggle/python Docker image: https://github.com/kaggle/docker-python\n",
    "# For example, here's several helpful packages to load\n",
    "\n",
    "import numpy as np # linear algebra\n",
    "import pandas as pd # data processing, CSV file I/O (e.g. pd.read_csv)\n",
    "\n",
    "# Input data files are available in the read-only \"../input/\" directory\n",
    "# For example, running this (by clicking run or pressing Shift+Enter) will list all files under the input directory\n",
    "\n",
    "import os\n",
    "for dirname, _, filenames in os.walk('/kaggle/input'):\n",
    "    for filename in filenames:\n",
    "        print(os.path.join(dirname, filename))\n",
    "\n",
    "# You can write up to 20GB to the current directory (/kaggle/working/) that gets preserved as output when you create a version using \"Save & Run All\" \n",
    "# You can also write temporary files to /kaggle/temp/, but they won't be saved outside of the current session"
   ]
  },
  {
   "cell_type": "code",
   "execution_count": 2,
   "metadata": {
    "execution": {
     "iopub.execute_input": "2021-12-17T08:54:42.258604Z",
     "iopub.status.busy": "2021-12-17T08:54:42.258006Z",
     "iopub.status.idle": "2021-12-17T08:54:44.202294Z",
     "shell.execute_reply": "2021-12-17T08:54:44.201768Z",
     "shell.execute_reply.started": "2021-12-17T08:27:10.828401Z"
    },
    "papermill": {
     "duration": 1.955599,
     "end_time": "2021-12-17T08:54:44.202436",
     "exception": false,
     "start_time": "2021-12-17T08:54:42.246837",
     "status": "completed"
    },
    "tags": []
   },
   "outputs": [
    {
     "data": {
      "text/html": [
       "<div>\n",
       "<style scoped>\n",
       "    .dataframe tbody tr th:only-of-type {\n",
       "        vertical-align: middle;\n",
       "    }\n",
       "\n",
       "    .dataframe tbody tr th {\n",
       "        vertical-align: top;\n",
       "    }\n",
       "\n",
       "    .dataframe thead th {\n",
       "        text-align: right;\n",
       "    }\n",
       "</style>\n",
       "<table border=\"1\" class=\"dataframe\">\n",
       "  <thead>\n",
       "    <tr style=\"text-align: right;\">\n",
       "      <th></th>\n",
       "      <th>id</th>\n",
       "      <th>comment_text</th>\n",
       "      <th>toxic</th>\n",
       "      <th>severe_toxic</th>\n",
       "      <th>obscene</th>\n",
       "      <th>threat</th>\n",
       "      <th>insult</th>\n",
       "      <th>identity_hate</th>\n",
       "    </tr>\n",
       "  </thead>\n",
       "  <tbody>\n",
       "    <tr>\n",
       "      <th>0</th>\n",
       "      <td>0000997932d777bf</td>\n",
       "      <td>Explanation\\nWhy the edits made under my usern...</td>\n",
       "      <td>0</td>\n",
       "      <td>0</td>\n",
       "      <td>0</td>\n",
       "      <td>0</td>\n",
       "      <td>0</td>\n",
       "      <td>0</td>\n",
       "    </tr>\n",
       "    <tr>\n",
       "      <th>1</th>\n",
       "      <td>000103f0d9cfb60f</td>\n",
       "      <td>D'aww! He matches this background colour I'm s...</td>\n",
       "      <td>0</td>\n",
       "      <td>0</td>\n",
       "      <td>0</td>\n",
       "      <td>0</td>\n",
       "      <td>0</td>\n",
       "      <td>0</td>\n",
       "    </tr>\n",
       "    <tr>\n",
       "      <th>2</th>\n",
       "      <td>000113f07ec002fd</td>\n",
       "      <td>Hey man, I'm really not trying to edit war. It...</td>\n",
       "      <td>0</td>\n",
       "      <td>0</td>\n",
       "      <td>0</td>\n",
       "      <td>0</td>\n",
       "      <td>0</td>\n",
       "      <td>0</td>\n",
       "    </tr>\n",
       "    <tr>\n",
       "      <th>3</th>\n",
       "      <td>0001b41b1c6bb37e</td>\n",
       "      <td>\"\\nMore\\nI can't make any real suggestions on ...</td>\n",
       "      <td>0</td>\n",
       "      <td>0</td>\n",
       "      <td>0</td>\n",
       "      <td>0</td>\n",
       "      <td>0</td>\n",
       "      <td>0</td>\n",
       "    </tr>\n",
       "    <tr>\n",
       "      <th>4</th>\n",
       "      <td>0001d958c54c6e35</td>\n",
       "      <td>You, sir, are my hero. Any chance you remember...</td>\n",
       "      <td>0</td>\n",
       "      <td>0</td>\n",
       "      <td>0</td>\n",
       "      <td>0</td>\n",
       "      <td>0</td>\n",
       "      <td>0</td>\n",
       "    </tr>\n",
       "  </tbody>\n",
       "</table>\n",
       "</div>"
      ],
      "text/plain": [
       "                 id                                       comment_text  toxic  \\\n",
       "0  0000997932d777bf  Explanation\\nWhy the edits made under my usern...      0   \n",
       "1  000103f0d9cfb60f  D'aww! He matches this background colour I'm s...      0   \n",
       "2  000113f07ec002fd  Hey man, I'm really not trying to edit war. It...      0   \n",
       "3  0001b41b1c6bb37e  \"\\nMore\\nI can't make any real suggestions on ...      0   \n",
       "4  0001d958c54c6e35  You, sir, are my hero. Any chance you remember...      0   \n",
       "\n",
       "   severe_toxic  obscene  threat  insult  identity_hate  \n",
       "0             0        0       0       0              0  \n",
       "1             0        0       0       0              0  \n",
       "2             0        0       0       0              0  \n",
       "3             0        0       0       0              0  \n",
       "4             0        0       0       0              0  "
      ]
     },
     "execution_count": 2,
     "metadata": {},
     "output_type": "execute_result"
    }
   ],
   "source": [
    "train_df = pd.read_csv(\"/kaggle/input/jigsaw-toxic-comment-classification-challenge/train.csv\")\n",
    "train_df.head()"
   ]
  },
  {
   "cell_type": "code",
   "execution_count": 3,
   "metadata": {
    "execution": {
     "iopub.execute_input": "2021-12-17T08:54:44.223341Z",
     "iopub.status.busy": "2021-12-17T08:54:44.221707Z",
     "iopub.status.idle": "2021-12-17T08:54:44.305457Z",
     "shell.execute_reply": "2021-12-17T08:54:44.304952Z",
     "shell.execute_reply.started": "2021-12-17T08:27:26.742524Z"
    },
    "papermill": {
     "duration": 0.094236,
     "end_time": "2021-12-17T08:54:44.305580",
     "exception": false,
     "start_time": "2021-12-17T08:54:44.211344",
     "status": "completed"
    },
    "tags": []
   },
   "outputs": [
    {
     "data": {
      "text/html": [
       "<div>\n",
       "<style scoped>\n",
       "    .dataframe tbody tr th:only-of-type {\n",
       "        vertical-align: middle;\n",
       "    }\n",
       "\n",
       "    .dataframe tbody tr th {\n",
       "        vertical-align: top;\n",
       "    }\n",
       "\n",
       "    .dataframe thead th {\n",
       "        text-align: right;\n",
       "    }\n",
       "</style>\n",
       "<table border=\"1\" class=\"dataframe\">\n",
       "  <thead>\n",
       "    <tr style=\"text-align: right;\">\n",
       "      <th></th>\n",
       "      <th>comment_id</th>\n",
       "      <th>text</th>\n",
       "    </tr>\n",
       "  </thead>\n",
       "  <tbody>\n",
       "    <tr>\n",
       "      <th>0</th>\n",
       "      <td>114890</td>\n",
       "      <td>\"\\n \\n\\nGjalexei, you asked about whether ther...</td>\n",
       "    </tr>\n",
       "    <tr>\n",
       "      <th>1</th>\n",
       "      <td>732895</td>\n",
       "      <td>Looks like be have an abuser , can you please ...</td>\n",
       "    </tr>\n",
       "    <tr>\n",
       "      <th>2</th>\n",
       "      <td>1139051</td>\n",
       "      <td>I confess to having complete (and apparently b...</td>\n",
       "    </tr>\n",
       "    <tr>\n",
       "      <th>3</th>\n",
       "      <td>1434512</td>\n",
       "      <td>\"\\n\\nFreud's ideas are certainly much discusse...</td>\n",
       "    </tr>\n",
       "    <tr>\n",
       "      <th>4</th>\n",
       "      <td>2084821</td>\n",
       "      <td>It is not just you. This is a laundry list of ...</td>\n",
       "    </tr>\n",
       "  </tbody>\n",
       "</table>\n",
       "</div>"
      ],
      "text/plain": [
       "   comment_id                                               text\n",
       "0      114890  \"\\n \\n\\nGjalexei, you asked about whether ther...\n",
       "1      732895  Looks like be have an abuser , can you please ...\n",
       "2     1139051  I confess to having complete (and apparently b...\n",
       "3     1434512  \"\\n\\nFreud's ideas are certainly much discusse...\n",
       "4     2084821  It is not just you. This is a laundry list of ..."
      ]
     },
     "execution_count": 3,
     "metadata": {},
     "output_type": "execute_result"
    }
   ],
   "source": [
    "test_df = pd.read_csv(\"/kaggle/input/jigsaw-toxic-severity-rating/comments_to_score.csv\")\n",
    "test_df.head()"
   ]
  },
  {
   "cell_type": "code",
   "execution_count": 4,
   "metadata": {
    "execution": {
     "iopub.execute_input": "2021-12-17T08:54:44.333113Z",
     "iopub.status.busy": "2021-12-17T08:54:44.327031Z",
     "iopub.status.idle": "2021-12-17T08:54:47.354192Z",
     "shell.execute_reply": "2021-12-17T08:54:47.353734Z",
     "shell.execute_reply.started": "2021-12-17T08:27:27.555435Z"
    },
    "papermill": {
     "duration": 3.040134,
     "end_time": "2021-12-17T08:54:47.354348",
     "exception": false,
     "start_time": "2021-12-17T08:54:44.314214",
     "status": "completed"
    },
    "tags": []
   },
   "outputs": [],
   "source": [
    "import torch\n",
    "import torch.nn as nn\n",
    "from torch.utils.data import Dataset, DataLoader\n",
    "import pytorch_lightning as pl\n",
    "\n",
    "class JigsawDataset(Dataset):\n",
    "    def __init__(self, text=None, tokenizer=None, max_length=None):\n",
    "        self.max_length = max_length\n",
    "        self.tokenizer = tokenizer\n",
    "        self.text = text.values\n",
    "        \n",
    "    def __len__(self):\n",
    "        return len(self.text)\n",
    "    \n",
    "    def __getitem__(self, idx):\n",
    "        text = self.text[idx]\n",
    "        inputs = self.tokenizer.encode_plus(\n",
    "                        text,\n",
    "                        truncation=True,\n",
    "                        add_special_tokens=True,\n",
    "                        max_length=self.max_length,\n",
    "                        padding='max_length'\n",
    "                    )\n",
    "        instance = {\n",
    "            'input_ids': torch.tensor(inputs['input_ids'], dtype=torch.long),\n",
    "            'attention_mask': torch.tensor(inputs['attention_mask']  , dtype=torch.long),\n",
    "            'position_ids': torch.arange(self.max_length)\n",
    "        }\n",
    "        return instance\n",
    "    \n",
    "class DataModule(pl.LightningDataModule):\n",
    "    def __init__(self,data,tokenizer, random_seed, max_seq_length):\n",
    "        super().__init__()\n",
    "        self.data = data\n",
    "        self.tokenizer = tokenizer\n",
    "        self.random_seed = random_seed\n",
    "        self.max_seq_length = max_seq_length\n",
    "        self.test_data = None\n",
    "        \n",
    "    def setup(self, stage):\n",
    "        # Assign train/val datasets for use in dataloaders\n",
    "        self.test_data = JigsawDataset(text=self.data, tokenizer=self.tokenizer, max_length=self.max_seq_length)\n",
    "    \n",
    "    def predict_dataloader(self):\n",
    "        return DataLoader(self.test_data, batch_size=8)"
   ]
  },
  {
   "cell_type": "code",
   "execution_count": 5,
   "metadata": {
    "execution": {
     "iopub.execute_input": "2021-12-17T08:54:47.382369Z",
     "iopub.status.busy": "2021-12-17T08:54:47.381599Z",
     "iopub.status.idle": "2021-12-17T08:54:47.384034Z",
     "shell.execute_reply": "2021-12-17T08:54:47.383651Z",
     "shell.execute_reply.started": "2021-12-17T08:27:35.752865Z"
    },
    "papermill": {
     "duration": 0.020553,
     "end_time": "2021-12-17T08:54:47.384138",
     "exception": false,
     "start_time": "2021-12-17T08:54:47.363585",
     "status": "completed"
    },
    "tags": []
   },
   "outputs": [],
   "source": [
    "class Jigsaw_model(nn.Module):\n",
    "    def __init__(self,model):\n",
    "        super().__init__()\n",
    "        self.model = model\n",
    "        self.drop = nn.Dropout(p=0.2)\n",
    "        self.dense = nn.Linear(self.model.config.hidden_size, 1)\n",
    "        \n",
    "    def forward(self,x):\n",
    "        input_ids,attention_mask,position_ids = x[\"input_ids\"],x[\"attention_mask\"],x[\"position_ids\"]\n",
    "        outputs = self.model(input_ids=input_ids, attention_mask=attention_mask, position_ids=position_ids)\n",
    "        output = self.drop(outputs[1])\n",
    "        output = self.dense(output)\n",
    "        return output\n",
    "\n",
    "class PredictModel(pl.LightningModule):\n",
    "    def __init__(self,model):\n",
    "        super().__init__()\n",
    "        self.model = model\n",
    "        \n",
    "    def forward(self,x):\n",
    "        output = self.model(x)\n",
    "        return output\n",
    "\n",
    "    def predict_step(self, batch, batch_idx, dataloader_idx=0):\n",
    "        output = self(batch)\n",
    "        return output\n",
    "    \n",
    "    def predict_epoch_end(self, outputs):\n",
    "        return outputs"
   ]
  },
  {
   "cell_type": "code",
   "execution_count": 6,
   "metadata": {
    "execution": {
     "iopub.execute_input": "2021-12-17T08:54:47.407219Z",
     "iopub.status.busy": "2021-12-17T08:54:47.406582Z",
     "iopub.status.idle": "2021-12-17T08:57:38.057367Z",
     "shell.execute_reply": "2021-12-17T08:57:38.056848Z",
     "shell.execute_reply.started": "2021-12-17T08:34:04.311389Z"
    },
    "papermill": {
     "duration": 170.664816,
     "end_time": "2021-12-17T08:57:38.057507",
     "exception": false,
     "start_time": "2021-12-17T08:54:47.392691",
     "status": "completed"
    },
    "tags": []
   },
   "outputs": [
    {
     "data": {
      "application/vnd.jupyter.widget-view+json": {
       "model_id": "e15343a3294d4e04a951d18920d06825",
       "version_major": 2,
       "version_minor": 0
      },
      "text/plain": [
       "Predicting: 0it [00:00, ?it/s]"
      ]
     },
     "metadata": {},
     "output_type": "display_data"
    }
   ],
   "source": [
    "from transformers import AutoTokenizer, AutoConfig, AutoModel\n",
    "\n",
    "random_seed = 42\n",
    "\n",
    "pl.seed_everything(random_seed)\n",
    "tokenizer = AutoTokenizer.from_pretrained(\"../input/roberta-base\")\n",
    "config = AutoConfig.from_pretrained('../input/roberta-base')\n",
    "max_seq_length = config.max_position_embeddings\n",
    "language_model = AutoModel.from_config(config)\n",
    "trained_model = torch.load(\"/kaggle/input/jigsaw-toxic/epoch0-step17951.ckpt\")\n",
    "model = Jigsaw_model(language_model)\n",
    "model.load_state_dict(trained_model[\"state_dict\"])\n",
    "predict_model = PredictModel(model)\n",
    "trainer = pl.Trainer(gpus=1, deterministic=True,)\n",
    "data=DataModule(test_df[\"text\"], tokenizer, random_seed, max_seq_length)\n",
    "prediction = trainer.predict(predict_model,data)"
   ]
  },
  {
   "cell_type": "code",
   "execution_count": 7,
   "metadata": {
    "execution": {
     "iopub.execute_input": "2021-12-17T08:57:38.081612Z",
     "iopub.status.busy": "2021-12-17T08:57:38.080800Z",
     "iopub.status.idle": "2021-12-17T08:57:38.163283Z",
     "shell.execute_reply": "2021-12-17T08:57:38.163666Z",
     "shell.execute_reply.started": "2021-12-17T08:36:37.393126Z"
    },
    "papermill": {
     "duration": 0.09634,
     "end_time": "2021-12-17T08:57:38.163793",
     "exception": false,
     "start_time": "2021-12-17T08:57:38.067453",
     "status": "completed"
    },
    "tags": []
   },
   "outputs": [
    {
     "data": {
      "text/plain": [
       "[0.053538136184215546,\n",
       " 0.05476636439561844,\n",
       " 0.053219035267829895,\n",
       " 0.060290977358818054,\n",
       " 0.34828975796699524,\n",
       " 0.052721939980983734,\n",
       " 0.053493618965148926,\n",
       " 0.05407945439219475,\n",
       " 0.0536242239177227,\n",
       " 0.3033179044723511]"
      ]
     },
     "execution_count": 7,
     "metadata": {},
     "output_type": "execute_result"
    }
   ],
   "source": [
    "total = list()\n",
    "for i,x in enumerate(prediction):\n",
    "    total.extend(x.tolist())\n",
    "result = sum(total,[])\n",
    "result[:10]"
   ]
  },
  {
   "cell_type": "code",
   "execution_count": 8,
   "metadata": {
    "execution": {
     "iopub.execute_input": "2021-12-17T08:57:38.186905Z",
     "iopub.status.busy": "2021-12-17T08:57:38.184213Z",
     "iopub.status.idle": "2021-12-17T08:57:38.211147Z",
     "shell.execute_reply": "2021-12-17T08:57:38.210763Z",
     "shell.execute_reply.started": "2021-12-17T08:36:37.48312Z"
    },
    "papermill": {
     "duration": 0.038235,
     "end_time": "2021-12-17T08:57:38.211270",
     "exception": false,
     "start_time": "2021-12-17T08:57:38.173035",
     "status": "completed"
    },
    "tags": []
   },
   "outputs": [
    {
     "data": {
      "text/html": [
       "<div>\n",
       "<style scoped>\n",
       "    .dataframe tbody tr th:only-of-type {\n",
       "        vertical-align: middle;\n",
       "    }\n",
       "\n",
       "    .dataframe tbody tr th {\n",
       "        vertical-align: top;\n",
       "    }\n",
       "\n",
       "    .dataframe thead th {\n",
       "        text-align: right;\n",
       "    }\n",
       "</style>\n",
       "<table border=\"1\" class=\"dataframe\">\n",
       "  <thead>\n",
       "    <tr style=\"text-align: right;\">\n",
       "      <th></th>\n",
       "      <th>comment_id</th>\n",
       "      <th>score</th>\n",
       "    </tr>\n",
       "  </thead>\n",
       "  <tbody>\n",
       "    <tr>\n",
       "      <th>0</th>\n",
       "      <td>114890</td>\n",
       "      <td>0.004414</td>\n",
       "    </tr>\n",
       "    <tr>\n",
       "      <th>1</th>\n",
       "      <td>732895</td>\n",
       "      <td>0.006110</td>\n",
       "    </tr>\n",
       "    <tr>\n",
       "      <th>2</th>\n",
       "      <td>1139051</td>\n",
       "      <td>0.003973</td>\n",
       "    </tr>\n",
       "    <tr>\n",
       "      <th>3</th>\n",
       "      <td>1434512</td>\n",
       "      <td>0.013738</td>\n",
       "    </tr>\n",
       "    <tr>\n",
       "      <th>4</th>\n",
       "      <td>2084821</td>\n",
       "      <td>0.411396</td>\n",
       "    </tr>\n",
       "  </tbody>\n",
       "</table>\n",
       "</div>"
      ],
      "text/plain": [
       "   comment_id     score\n",
       "0      114890  0.004414\n",
       "1      732895  0.006110\n",
       "2     1139051  0.003973\n",
       "3     1434512  0.013738\n",
       "4     2084821  0.411396"
      ]
     },
     "execution_count": 8,
     "metadata": {},
     "output_type": "execute_result"
    }
   ],
   "source": [
    "submission = pd.read_csv(\"../input/jigsaw-toxic-severity-rating/sample_submission.csv\")\n",
    "submission[\"score\"] = result\n",
    "scores = submission[\"score\"]\n",
    "submission[\"score\"] = (scores-scores.min())/(scores.max()-scores.min())\n",
    "submission.head()"
   ]
  },
  {
   "cell_type": "code",
   "execution_count": 9,
   "metadata": {
    "execution": {
     "iopub.execute_input": "2021-12-17T08:57:38.235014Z",
     "iopub.status.busy": "2021-12-17T08:57:38.234414Z",
     "iopub.status.idle": "2021-12-17T08:57:38.264431Z",
     "shell.execute_reply": "2021-12-17T08:57:38.264847Z",
     "shell.execute_reply.started": "2021-12-17T08:36:37.509227Z"
    },
    "papermill": {
     "duration": 0.044089,
     "end_time": "2021-12-17T08:57:38.264961",
     "exception": false,
     "start_time": "2021-12-17T08:57:38.220872",
     "status": "completed"
    },
    "tags": []
   },
   "outputs": [],
   "source": [
    "submission.to_csv('submission.csv', index=False)"
   ]
  },
  {
   "cell_type": "code",
   "execution_count": null,
   "metadata": {
    "papermill": {
     "duration": 0.009356,
     "end_time": "2021-12-17T08:57:38.284365",
     "exception": false,
     "start_time": "2021-12-17T08:57:38.275009",
     "status": "completed"
    },
    "tags": []
   },
   "outputs": [],
   "source": []
  }
 ],
 "metadata": {
  "kernelspec": {
   "display_name": "Python 3",
   "language": "python",
   "name": "python3"
  },
  "language_info": {
   "codemirror_mode": {
    "name": "ipython",
    "version": 3
   },
   "file_extension": ".py",
   "mimetype": "text/x-python",
   "name": "python",
   "nbconvert_exporter": "python",
   "pygments_lexer": "ipython3",
   "version": "3.7.6"
  },
  "papermill": {
   "default_parameters": {},
   "duration": 187.424706,
   "end_time": "2021-12-17T08:57:41.367158",
   "environment_variables": {},
   "exception": null,
   "input_path": "__notebook__.ipynb",
   "output_path": "__notebook__.ipynb",
   "parameters": {},
   "start_time": "2021-12-17T08:54:33.942452",
   "version": "2.3.3"
  },
  "widgets": {
   "application/vnd.jupyter.widget-state+json": {
    "state": {
     "0a3515f8b0ca468dbbf3e7db107444e9": {
      "model_module": "@jupyter-widgets/base",
      "model_module_version": "1.2.0",
      "model_name": "LayoutModel",
      "state": {
       "_model_module": "@jupyter-widgets/base",
       "_model_module_version": "1.2.0",
       "_model_name": "LayoutModel",
       "_view_count": null,
       "_view_module": "@jupyter-widgets/base",
       "_view_module_version": "1.2.0",
       "_view_name": "LayoutView",
       "align_content": null,
       "align_items": null,
       "align_self": null,
       "border": null,
       "bottom": null,
       "display": "inline-flex",
       "flex": null,
       "flex_flow": "row wrap",
       "grid_area": null,
       "grid_auto_columns": null,
       "grid_auto_flow": null,
       "grid_auto_rows": null,
       "grid_column": null,
       "grid_gap": null,
       "grid_row": null,
       "grid_template_areas": null,
       "grid_template_columns": null,
       "grid_template_rows": null,
       "height": null,
       "justify_content": null,
       "justify_items": null,
       "left": null,
       "margin": null,
       "max_height": null,
       "max_width": null,
       "min_height": null,
       "min_width": null,
       "object_fit": null,
       "object_position": null,
       "order": null,
       "overflow": null,
       "overflow_x": null,
       "overflow_y": null,
       "padding": null,
       "right": null,
       "top": null,
       "visibility": null,
       "width": "100%"
      }
     },
     "22cdaab20729409e832203ca76e17f3b": {
      "model_module": "@jupyter-widgets/base",
      "model_module_version": "1.2.0",
      "model_name": "LayoutModel",
      "state": {
       "_model_module": "@jupyter-widgets/base",
       "_model_module_version": "1.2.0",
       "_model_name": "LayoutModel",
       "_view_count": null,
       "_view_module": "@jupyter-widgets/base",
       "_view_module_version": "1.2.0",
       "_view_name": "LayoutView",
       "align_content": null,
       "align_items": null,
       "align_self": null,
       "border": null,
       "bottom": null,
       "display": null,
       "flex": null,
       "flex_flow": null,
       "grid_area": null,
       "grid_auto_columns": null,
       "grid_auto_flow": null,
       "grid_auto_rows": null,
       "grid_column": null,
       "grid_gap": null,
       "grid_row": null,
       "grid_template_areas": null,
       "grid_template_columns": null,
       "grid_template_rows": null,
       "height": null,
       "justify_content": null,
       "justify_items": null,
       "left": null,
       "margin": null,
       "max_height": null,
       "max_width": null,
       "min_height": null,
       "min_width": null,
       "object_fit": null,
       "object_position": null,
       "order": null,
       "overflow": null,
       "overflow_x": null,
       "overflow_y": null,
       "padding": null,
       "right": null,
       "top": null,
       "visibility": null,
       "width": null
      }
     },
     "3763824b2c4347478749c1ca22590060": {
      "model_module": "@jupyter-widgets/base",
      "model_module_version": "1.2.0",
      "model_name": "LayoutModel",
      "state": {
       "_model_module": "@jupyter-widgets/base",
       "_model_module_version": "1.2.0",
       "_model_name": "LayoutModel",
       "_view_count": null,
       "_view_module": "@jupyter-widgets/base",
       "_view_module_version": "1.2.0",
       "_view_name": "LayoutView",
       "align_content": null,
       "align_items": null,
       "align_self": null,
       "border": null,
       "bottom": null,
       "display": null,
       "flex": "2",
       "flex_flow": null,
       "grid_area": null,
       "grid_auto_columns": null,
       "grid_auto_flow": null,
       "grid_auto_rows": null,
       "grid_column": null,
       "grid_gap": null,
       "grid_row": null,
       "grid_template_areas": null,
       "grid_template_columns": null,
       "grid_template_rows": null,
       "height": null,
       "justify_content": null,
       "justify_items": null,
       "left": null,
       "margin": null,
       "max_height": null,
       "max_width": null,
       "min_height": null,
       "min_width": null,
       "object_fit": null,
       "object_position": null,
       "order": null,
       "overflow": null,
       "overflow_x": null,
       "overflow_y": null,
       "padding": null,
       "right": null,
       "top": null,
       "visibility": null,
       "width": null
      }
     },
     "6c25e4e2e58b436c8f94073e5f26af7b": {
      "model_module": "@jupyter-widgets/base",
      "model_module_version": "1.2.0",
      "model_name": "LayoutModel",
      "state": {
       "_model_module": "@jupyter-widgets/base",
       "_model_module_version": "1.2.0",
       "_model_name": "LayoutModel",
       "_view_count": null,
       "_view_module": "@jupyter-widgets/base",
       "_view_module_version": "1.2.0",
       "_view_name": "LayoutView",
       "align_content": null,
       "align_items": null,
       "align_self": null,
       "border": null,
       "bottom": null,
       "display": null,
       "flex": null,
       "flex_flow": null,
       "grid_area": null,
       "grid_auto_columns": null,
       "grid_auto_flow": null,
       "grid_auto_rows": null,
       "grid_column": null,
       "grid_gap": null,
       "grid_row": null,
       "grid_template_areas": null,
       "grid_template_columns": null,
       "grid_template_rows": null,
       "height": null,
       "justify_content": null,
       "justify_items": null,
       "left": null,
       "margin": null,
       "max_height": null,
       "max_width": null,
       "min_height": null,
       "min_width": null,
       "object_fit": null,
       "object_position": null,
       "order": null,
       "overflow": null,
       "overflow_x": null,
       "overflow_y": null,
       "padding": null,
       "right": null,
       "top": null,
       "visibility": null,
       "width": null
      }
     },
     "924ec5e0df4c451786d3d9715d35c7a3": {
      "model_module": "@jupyter-widgets/controls",
      "model_module_version": "1.5.0",
      "model_name": "HTMLModel",
      "state": {
       "_dom_classes": [],
       "_model_module": "@jupyter-widgets/controls",
       "_model_module_version": "1.5.0",
       "_model_name": "HTMLModel",
       "_view_count": null,
       "_view_module": "@jupyter-widgets/controls",
       "_view_module_version": "1.5.0",
       "_view_name": "HTMLView",
       "description": "",
       "description_tooltip": null,
       "layout": "IPY_MODEL_6c25e4e2e58b436c8f94073e5f26af7b",
       "placeholder": "​",
       "style": "IPY_MODEL_c9a19586ed6a40e78f91ee8d22695be1",
       "value": " 943/943 [02:26&lt;00:00,  6.46it/s]"
      }
     },
     "c58ded7aee0d445ba2556cfd7a0d7aed": {
      "model_module": "@jupyter-widgets/controls",
      "model_module_version": "1.5.0",
      "model_name": "DescriptionStyleModel",
      "state": {
       "_model_module": "@jupyter-widgets/controls",
       "_model_module_version": "1.5.0",
       "_model_name": "DescriptionStyleModel",
       "_view_count": null,
       "_view_module": "@jupyter-widgets/base",
       "_view_module_version": "1.2.0",
       "_view_name": "StyleView",
       "description_width": ""
      }
     },
     "c9a19586ed6a40e78f91ee8d22695be1": {
      "model_module": "@jupyter-widgets/controls",
      "model_module_version": "1.5.0",
      "model_name": "DescriptionStyleModel",
      "state": {
       "_model_module": "@jupyter-widgets/controls",
       "_model_module_version": "1.5.0",
       "_model_name": "DescriptionStyleModel",
       "_view_count": null,
       "_view_module": "@jupyter-widgets/base",
       "_view_module_version": "1.2.0",
       "_view_name": "StyleView",
       "description_width": ""
      }
     },
     "e15343a3294d4e04a951d18920d06825": {
      "model_module": "@jupyter-widgets/controls",
      "model_module_version": "1.5.0",
      "model_name": "HBoxModel",
      "state": {
       "_dom_classes": [],
       "_model_module": "@jupyter-widgets/controls",
       "_model_module_version": "1.5.0",
       "_model_name": "HBoxModel",
       "_view_count": null,
       "_view_module": "@jupyter-widgets/controls",
       "_view_module_version": "1.5.0",
       "_view_name": "HBoxView",
       "box_style": "",
       "children": [
        "IPY_MODEL_e1d8737fe9ae418ab29d32ffdeb3fd63",
        "IPY_MODEL_e6bd97e9f34d468eb5ce61f49f0b053a",
        "IPY_MODEL_924ec5e0df4c451786d3d9715d35c7a3"
       ],
       "layout": "IPY_MODEL_0a3515f8b0ca468dbbf3e7db107444e9"
      }
     },
     "e1d8737fe9ae418ab29d32ffdeb3fd63": {
      "model_module": "@jupyter-widgets/controls",
      "model_module_version": "1.5.0",
      "model_name": "HTMLModel",
      "state": {
       "_dom_classes": [],
       "_model_module": "@jupyter-widgets/controls",
       "_model_module_version": "1.5.0",
       "_model_name": "HTMLModel",
       "_view_count": null,
       "_view_module": "@jupyter-widgets/controls",
       "_view_module_version": "1.5.0",
       "_view_name": "HTMLView",
       "description": "",
       "description_tooltip": null,
       "layout": "IPY_MODEL_22cdaab20729409e832203ca76e17f3b",
       "placeholder": "​",
       "style": "IPY_MODEL_c58ded7aee0d445ba2556cfd7a0d7aed",
       "value": "Predicting: 100%"
      }
     },
     "e6bd97e9f34d468eb5ce61f49f0b053a": {
      "model_module": "@jupyter-widgets/controls",
      "model_module_version": "1.5.0",
      "model_name": "FloatProgressModel",
      "state": {
       "_dom_classes": [],
       "_model_module": "@jupyter-widgets/controls",
       "_model_module_version": "1.5.0",
       "_model_name": "FloatProgressModel",
       "_view_count": null,
       "_view_module": "@jupyter-widgets/controls",
       "_view_module_version": "1.5.0",
       "_view_name": "ProgressView",
       "bar_style": "success",
       "description": "",
       "description_tooltip": null,
       "layout": "IPY_MODEL_3763824b2c4347478749c1ca22590060",
       "max": 1,
       "min": 0,
       "orientation": "horizontal",
       "style": "IPY_MODEL_f774581bc50c44048f5993bf2c0e62dd",
       "value": 1
      }
     },
     "f774581bc50c44048f5993bf2c0e62dd": {
      "model_module": "@jupyter-widgets/controls",
      "model_module_version": "1.5.0",
      "model_name": "ProgressStyleModel",
      "state": {
       "_model_module": "@jupyter-widgets/controls",
       "_model_module_version": "1.5.0",
       "_model_name": "ProgressStyleModel",
       "_view_count": null,
       "_view_module": "@jupyter-widgets/base",
       "_view_module_version": "1.2.0",
       "_view_name": "StyleView",
       "bar_color": null,
       "description_width": ""
      }
     }
    },
    "version_major": 2,
    "version_minor": 0
   }
  }
 },
 "nbformat": 4,
 "nbformat_minor": 5
}
